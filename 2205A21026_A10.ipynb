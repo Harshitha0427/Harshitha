{
  "nbformat": 4,
  "nbformat_minor": 0,
  "metadata": {
    "colab": {
      "provenance": [],
      "authorship_tag": "ABX9TyP/1E/rNwkhkoh25spe47Qt",
      "include_colab_link": true
    },
    "kernelspec": {
      "name": "python3",
      "display_name": "Python 3"
    },
    "language_info": {
      "name": "python"
    }
  },
  "cells": [
    {
      "cell_type": "markdown",
      "metadata": {
        "id": "view-in-github",
        "colab_type": "text"
      },
      "source": [
        "<a href=\"https://colab.research.google.com/github/Harshitha0427/Harshitha/blob/main/2205A21026_A10.ipynb\" target=\"_parent\"><img src=\"https://colab.research.google.com/assets/colab-badge.svg\" alt=\"Open In Colab\"/></a>"
      ]
    },
    {
      "cell_type": "code",
      "source": [
        "import  numpy as np\n",
        "marks=np.array([[[101,35,98,43,65,78,96],\n",
        "                 [102,87,45,98,65,34,78],\n",
        "                 [103,45,26,78,45,67,34],\n",
        "                 [104,45,56,67,78,89,90],\n",
        "                 [105,23,34,45,56,76,87]],\n",
        "                [[101,45,89,43,56,87,69],\n",
        "                 [102,78,54,89,56,43,87],\n",
        "                 [103,54,62,87,54,76,43],\n",
        "                 [104,35,65,76,87,98,9],\n",
        "                 [105,32,43,54,65,67,78]]])\n",
        "students=marks.shape[1]\n",
        "sem=marks.shape[0]\n",
        "\n",
        "Hallticket_number=int(input(\"enter the hallticket number:\"))\n",
        "sem_number=int(input(\"enter the sem number:\"))\n",
        "for i in range(sem):\n",
        "  if(sem==i+1):\n",
        "    break\n",
        "index_sem=i\n",
        "for j in range(students):\n",
        "  if(Hallticket_number==marks[index_sem,j,0]):\n",
        "    break\n",
        "index_students=j\n",
        "marks_percentage=np.sum(marks[index_sem,index_students,1:marks.shape[2]])*100/600\n",
        "\n",
        "count=0\n",
        "failed_sub=[]\n",
        "for i in range(1,marks.shape[2]):\n",
        "  if(marks[index_sem,index_students,i]<40):\n",
        "    count+=1\n",
        "    failed_sub.append(i)\n",
        "\n",
        "print(\"==========================================\")\n",
        "print(\"               SR UNIVERSITY              \")\n",
        "print(\"                Score Card                \")\n",
        "print(\"==========================================\")\n",
        "print(\"Roll No:\",Hallticket_number)\n",
        "print(\"semester:\",sem)\n",
        "print(\"subject1:\",marks[index_sem,index_students,1])\n",
        "print(\"subject2:\",marks[index_sem,index_students,2])\n",
        "print(\"subject3:\",marks[index_sem,index_students,3])\n",
        "print(\"subject4:\",marks[index_sem,index_students,4])\n",
        "print(\"subject5:\",marks[index_sem,index_students,5])\n",
        "print(\"subject6:\",marks[index_sem,index_students,6])\n",
        "print(\"==========================================\")\n",
        "print(\"             Results Status               \")\n",
        "print(\"==========================================\")\n",
        "if(count>0):\n",
        "  print(\"Fail\")\n",
        "  print(\"Failed Subjects:\",)\n",
        "  for i in range(len(failed_sub)):\n",
        "    if(failed_sub[i]==1):\n",
        "      print(\"subject1\")\n",
        "    if(failed_sub[i]==2):\n",
        "      print(\"subject2\")\n",
        "    if(failed_sub[i]==3):\n",
        "      print(\"subject3\")\n",
        "    if(failed_sub[i]==4):\n",
        "      print(\"subject4\")\n",
        "    if(failed_sub[i]==5):\n",
        "      print(\"subject5\")\n",
        "    if(failed_sub[i]==6):\n",
        "      print(\"subject6\")\n",
        "else:\n",
        "  print(\"Pass\")\n",
        "  print(\"Percentage of marks:\",np.round(marks_percentage))\n",
        "print(\"==========================================\")"
      ],
      "metadata": {
        "id": "OyvpD0SQqo_i",
        "colab": {
          "base_uri": "https://localhost:8080/"
        },
        "outputId": "83bafca4-4285-4e26-f189-8913f8a333bf"
      },
      "execution_count": 7,
      "outputs": [
        {
          "output_type": "stream",
          "name": "stdout",
          "text": [
            "enter the hallticket number:104\n",
            "enter the sem number:1\n",
            "==========================================\n",
            "               SR UNIVERSITY              \n",
            "                Score Card                \n",
            "==========================================\n",
            "Roll No: 104\n",
            "semester: 2\n",
            "subject1: 35\n",
            "subject2: 65\n",
            "subject3: 76\n",
            "subject4: 87\n",
            "subject5: 98\n",
            "subject6: 9\n",
            "==========================================\n",
            "             Results Status               \n",
            "==========================================\n",
            "Fail\n",
            "Failed Subjects:\n",
            "subject1\n",
            "subject6\n",
            "==========================================\n"
          ]
        }
      ]
    }
  ]
}