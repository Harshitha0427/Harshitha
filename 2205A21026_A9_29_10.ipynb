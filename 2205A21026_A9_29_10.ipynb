{
  "nbformat": 4,
  "nbformat_minor": 0,
  "metadata": {
    "colab": {
      "provenance": [],
      "authorship_tag": "ABX9TyNMqTKXwaNNQRKlj18C+geu",
      "include_colab_link": true
    },
    "kernelspec": {
      "name": "python3",
      "display_name": "Python 3"
    },
    "language_info": {
      "name": "python"
    }
  },
  "cells": [
    {
      "cell_type": "markdown",
      "metadata": {
        "id": "view-in-github",
        "colab_type": "text"
      },
      "source": [
        "<a href=\"https://colab.research.google.com/github/Harshitha0427/Harshitha/blob/main/2205A21026_A9_29_10.ipynb\" target=\"_parent\"><img src=\"https://colab.research.google.com/assets/colab-badge.svg\" alt=\"Open In Colab\"/></a>"
      ]
    },
    {
      "cell_type": "code",
      "execution_count": null,
      "metadata": {
        "colab": {
          "base_uri": "https://localhost:8080/"
        },
        "id": "UccjoBAVuV3T",
        "outputId": "ea18bbba-d7e6-4255-89c3-401506bb1ea3"
      },
      "outputs": [
        {
          "output_type": "stream",
          "name": "stdout",
          "text": [
            "Enter Hall Ticket no:104\n",
            "============================\n",
            "      KINDERLAND SCHOOL     \n",
            "       Score Card           \n",
            "============================\n",
            "Roll No: 104\n",
            "Telugu: 45\n",
            "English: 56\n",
            "Hindi: 67\n",
            "Maths: 78\n",
            "Science: 89\n",
            "Social: 90\n",
            "============================\n",
            "      Results Status        \n",
            "============================\n",
            "Pass\n",
            "percentage of marks: 71.0\n",
            "============================\n"
          ]
        }
      ],
      "source": [
        "import numpy as np\n",
        "marks=np.array([[101,35,98,43,65,78,96],\n",
        "                [102,87,45,98,65,34,78],\n",
        "                [103,45,26,78,45,67,34],\n",
        "                [104,45,56,67,78,89,90],\n",
        "                [105,23,34,45,56,76,87]])\n",
        "students=marks.shape[0]\n",
        "Hall_Ticket_No=int(input(\"Enter Hall Ticket no:\"))\n",
        "for i in range(students):\n",
        "  if(Hall_Ticket_No==marks[i,0]):\n",
        "    break\n",
        "index=i\n",
        "\n",
        "marks_percentage=np.sum(marks[index,1:marks.shape[1]])*100/600\n",
        "\n",
        "count=0\n",
        "failed_sub=[]\n",
        "for i in range(1,marks.shape[1]):\n",
        "  if(marks[index,i]<35):\n",
        "    count+=1\n",
        "    failed_sub.append(i)\n",
        "\n",
        "print(\"============================\")\n",
        "print(\"      KINDERLAND SCHOOL     \")\n",
        "print(\"       Score Card           \")\n",
        "print(\"============================\")\n",
        "print(\"Roll No:\",Hall_Ticket_No)\n",
        "print(\"Telugu:\",marks[index,1])\n",
        "print(\"English:\",marks[index,2])\n",
        "print(\"Hindi:\",marks[index,3])\n",
        "print(\"Maths:\",marks[index,4])\n",
        "print(\"Science:\",marks[index,5])\n",
        "print(\"Social:\",marks[index,6])\n",
        "\n",
        "print(\"============================\")\n",
        "print(\"      Results Status        \")\n",
        "print(\"============================\")\n",
        "if(count>0):\n",
        "  print(\"Fail\")\n",
        "  print(\"Failed Subjects:\",)\n",
        "  for i in range(len(failed_sub)):\n",
        "    if(failed_sub[i]==1):\n",
        "      print(\"Telugu\")\n",
        "    if(failed_sub[i]==2):\n",
        "      print(\"English\")\n",
        "    if(failed_sub[i]==3):\n",
        "      print(\"Hindi\")\n",
        "    if(failed_sub[i]==4):\n",
        "      print(\"Maths\")\n",
        "    if(failed_sub[i]==5):\n",
        "      print(\"Science\")\n",
        "    if(failed_sub[i]==6):\n",
        "      print(\"Social\")\n",
        "else:\n",
        "  print(\"Pass\")\n",
        "  print(\"percentage of marks:\",np.round(marks_percentage))\n",
        "  print(\"============================\")"
      ]
    }
  ]
}