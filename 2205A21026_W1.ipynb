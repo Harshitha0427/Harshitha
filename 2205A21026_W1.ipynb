{
  "nbformat": 4,
  "nbformat_minor": 0,
  "metadata": {
    "colab": {
      "provenance": [],
      "authorship_tag": "ABX9TyNJgS1E117RPDf9IjkdXolO",
      "include_colab_link": true
    },
    "kernelspec": {
      "name": "python3",
      "display_name": "Python 3"
    },
    "language_info": {
      "name": "python"
    }
  },
  "cells": [
    {
      "cell_type": "markdown",
      "metadata": {
        "id": "view-in-github",
        "colab_type": "text"
      },
      "source": [
        "<a href=\"https://colab.research.google.com/github/Harshitha0427/Harshitha/blob/main/2205A21026_W1.ipynb\" target=\"_parent\"><img src=\"https://colab.research.google.com/assets/colab-badge.svg\" alt=\"Open In Colab\"/></a>"
      ]
    },
    {
      "cell_type": "code",
      "execution_count": 6,
      "metadata": {
        "colab": {
          "base_uri": "https://localhost:8080/"
        },
        "id": "OW9i7qdcTyUb",
        "outputId": "0f91e8bc-ef34-4990-9ec8-65b91e7d0373"
      },
      "outputs": [
        {
          "output_type": "stream",
          "name": "stdout",
          "text": [
            "enter the rating of transformer in voltampere= 100\n",
            "enter the powerfactor of transformer=0.9\n",
            "enter the loading of transformer=0.25\n",
            "enter the full load copper losses of transformer in watts=50\n",
            "enter the core losses of transformer in watts=25\n",
            "copper losses of transformer at loading= 3.125\n",
            "efficiency of transformer= 44.44444444444444 %\n",
            "load at where maximum efficiency= 0.7071067811865476\n"
          ]
        }
      ],
      "source": [
        "rating=float(input(\"enter the rating of transformer in voltampere= \"))\n",
        "pf=float(input(\"enter the powerfactor of transformer=\"))\n",
        "loading=float(input(\"enter the loading of transformer=\"))\n",
        "copper_losses=float(input(\"enter the full load copper losses of transformer in watts=\"))\n",
        "core_losses=float(input(\"enter the core losses of transformer in watts=\"))\n",
        "cu_losses=(copper_losses)*(loading**2)\n",
        "print(\"copper losses of transformer at loading=\",cu_losses)\n",
        "efficiency=(((loading)*rating*pf)/((loading*rating*pf)+core_losses+cu_losses))*100\n",
        "print(\"efficiency of transformer=\",efficiency,\"%\")\n",
        "import math\n",
        "max_efficiency=math.sqrt(core_losses/copper_losses)\n",
        "print(\"load at where maximum efficiency=\",max_efficiency)"
      ]
    }
  ]
}