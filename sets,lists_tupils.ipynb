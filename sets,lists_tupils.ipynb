{
  "nbformat": 4,
  "nbformat_minor": 0,
  "metadata": {
    "colab": {
      "provenance": [],
      "authorship_tag": "ABX9TyM8I+XAJBTuTkBcS6ScpYh5",
      "include_colab_link": true
    },
    "kernelspec": {
      "name": "python3",
      "display_name": "Python 3"
    },
    "language_info": {
      "name": "python"
    }
  },
  "cells": [
    {
      "cell_type": "markdown",
      "metadata": {
        "id": "view-in-github",
        "colab_type": "text"
      },
      "source": [
        "<a href=\"https://colab.research.google.com/github/Harshitha0427/Harshitha/blob/main/sets%2Clists_tupils.ipynb\" target=\"_parent\"><img src=\"https://colab.research.google.com/assets/colab-badge.svg\" alt=\"Open In Colab\"/></a>"
      ]
    },
    {
      "cell_type": "markdown",
      "source": [
        "SETS\n"
      ],
      "metadata": {
        "id": "0A1cjFw3ltns"
      }
    },
    {
      "cell_type": "code",
      "source": [
        "Qualification=['venkat','B.Tech',2006,'Μ.Ε.',2011,'Ph.D', 2018]\n",
        "Experience=['SSCE', 2007, 'infosys', '2011', 'ΑΙΤΑΜ', '2013', 'SREC', '2018']\n",
        "CA=Qualification+Experience\n",
        "print(\"Qualification=\", Qualification)\n",
        "print(\"Experience=\", Experience)\n",
        "print(\"CA=\", CA)\n",
        "#Concatination of the two lists"
      ],
      "metadata": {
        "id": "DUsQQ2xalGJS",
        "colab": {
          "base_uri": "https://localhost:8080/"
        },
        "outputId": "944ea3ae-23d3-44b6-ffcd-bb1e7db3a7f5"
      },
      "execution_count": null,
      "outputs": [
        {
          "output_type": "stream",
          "name": "stdout",
          "text": [
            "Qualification= ['venkat', 'B.Tech', 2006, 'Μ.Ε.', 2011, 'Ph.D', 2018]\n",
            "Experience= ['SSCE', 2007, 'infosys', '2011', 'ΑΙΤΑΜ', '2013', 'SREC', '2018']\n",
            "CA= ['venkat', 'B.Tech', 2006, 'Μ.Ε.', 2011, 'Ph.D', 2018, 'SSCE', 2007, 'infosys', '2011', 'ΑΙΤΑΜ', '2013', 'SREC', '2018']\n"
          ]
        }
      ]
    },
    {
      "cell_type": "code",
      "source": [
        "Qualification=['venkat','B.Tech',2006,'Μ.Ε.',2011,'Ph.D', 2018]\n",
        "print(Qualification)\n",
        "print(Qualification[0])\n",
        "print(Qualification[1:])\n",
        "print(Qualification[1:5])\n",
        "print(Qualification*2)\n",
        "print(Qualification[::-1])"
      ],
      "metadata": {
        "colab": {
          "base_uri": "https://localhost:8080/"
        },
        "id": "JBOUFO_Olz98",
        "outputId": "a5c9e209-4b50-4343-e46e-00957e2b69b8"
      },
      "execution_count": null,
      "outputs": [
        {
          "output_type": "stream",
          "name": "stdout",
          "text": [
            "['venkat', 'B.Tech', 2006, 'Μ.Ε.', 2011, 'Ph.D', 2018]\n",
            "venkat\n",
            "['B.Tech', 2006, 'Μ.Ε.', 2011, 'Ph.D', 2018]\n",
            "['B.Tech', 2006, 'Μ.Ε.', 2011]\n",
            "['venkat', 'B.Tech', 2006, 'Μ.Ε.', 2011, 'Ph.D', 2018, 'venkat', 'B.Tech', 2006, 'Μ.Ε.', 2011, 'Ph.D', 2018]\n",
            "[2018, 'Ph.D', 2011, 'Μ.Ε.', 2006, 'B.Tech', 'venkat']\n"
          ]
        }
      ]
    },
    {
      "cell_type": "markdown",
      "source": [
        "**LISTS**"
      ],
      "metadata": {
        "id": "LpLOkWbcq1qR"
      }
    },
    {
      "cell_type": "code",
      "source": [
        "List=['venkat',1985]\n",
        "print('venkat birth year',list[1])\n",
        "List[0]='dev'\n",
        "List[1]=2017\n",
        "print('dev birth year',List[1])"
      ],
      "metadata": {
        "colab": {
          "base_uri": "https://localhost:8080/"
        },
        "id": "MgyXCZy7nKMF",
        "outputId": "6ed3e510-64d2-4bfe-88e2-760f0d4bec31"
      },
      "execution_count": null,
      "outputs": [
        {
          "output_type": "stream",
          "name": "stdout",
          "text": [
            "venkat birth year list[1]\n",
            "dev birth year 2017\n"
          ]
        }
      ]
    },
    {
      "cell_type": "code",
      "source": [
        "list=['venkat','1985']\n",
        "print(list)\n",
        "del list[1]\n",
        "print(list)"
      ],
      "metadata": {
        "colab": {
          "base_uri": "https://localhost:8080/"
        },
        "id": "5lu03v17oswM",
        "outputId": "37aefebf-930e-481d-edef-763331e71935"
      },
      "execution_count": null,
      "outputs": [
        {
          "output_type": "stream",
          "name": "stdout",
          "text": [
            "['venkat', '1985']\n",
            "['venkat']\n"
          ]
        }
      ]
    },
    {
      "cell_type": "code",
      "source": [
        "Name=['Ramana','Thanmai','Dev']\n",
        "DOB=[1985,2014,2017]\n",
        "print('Name with maximum characters',max(Name))\n",
        "print('younger person DOB',max(DOB))\n",
        "print('Name with minimum characters',min(Name))\n",
        "print('elder person DOB',min(DOB))\n"
      ],
      "metadata": {
        "colab": {
          "base_uri": "https://localhost:8080/"
        },
        "id": "NnDXRawSr6rU",
        "outputId": "40ca80a2-454e-4f33-e64a-f522692d2346"
      },
      "execution_count": null,
      "outputs": [
        {
          "output_type": "stream",
          "name": "stdout",
          "text": [
            "Name with maximum characters Thanmai\n",
            "younger person DOB 2017\n",
            "Name with minimum characters Dev\n",
            "elder person DOB 1985\n"
          ]
        }
      ]
    },
    {
      "cell_type": "code",
      "source": [
        "Name=['Ramana','Thanmai','Dev']\n",
        "DOB=[1985,2014,2017]\n",
        "print( 'Number of peoples' , len (Name) )\n",
        "print(' ========')\n",
        "Details=Name+DOB # Concatination\n",
        "print( 'Biodata' ,Details)\n",
        "print('=========')\n",
        "Repetition=Name*2\n",
        "print( 'Repetition' ,Repetition)\n",
        "print('=========')\n",
        "for x in Name:\n",
        "   print (x)\n",
        "print( '========')"
      ],
      "metadata": {
        "colab": {
          "base_uri": "https://localhost:8080/"
        },
        "id": "sNjJJBvItLz9",
        "outputId": "ba6da55b-f3c1-478a-d669-fd32c5bc614e"
      },
      "execution_count": null,
      "outputs": [
        {
          "output_type": "stream",
          "name": "stdout",
          "text": [
            "Number of peoples 3\n",
            " ========\n",
            "Biodata ['Ramana', 'Thanmai', 'Dev', 1985, 2014, 2017]\n",
            "=========\n",
            "Repetition ['Ramana', 'Thanmai', 'Dev', 'Ramana', 'Thanmai', 'Dev']\n",
            "=========\n",
            "Ramana\n",
            "Thanmai\n",
            "Dev\n",
            "========\n"
          ]
        }
      ]
    },
    {
      "cell_type": "markdown",
      "source": [
        "**TUPLES**"
      ],
      "metadata": {
        "id": "9f1b82FPq5n1"
      }
    },
    {
      "cell_type": "code",
      "source": [
        "atuple = ('ramana', 1985, 'Thanmai', 2014)\n",
        "str = 'venkat'\n",
        "list1 =(atuple)\n",
        "list2 =(str)\n",
        "print(list1)\n",
        "print(list2)"
      ],
      "metadata": {
        "colab": {
          "base_uri": "https://localhost:8080/"
        },
        "id": "4czjOoAypHGb",
        "outputId": "0d786c4f-870d-4f16-9c9a-3438dcebbc57"
      },
      "execution_count": 15,
      "outputs": [
        {
          "output_type": "stream",
          "name": "stdout",
          "text": [
            "('ramana', 1985, 'Thanmai', 2014)\n",
            "venkat\n"
          ]
        }
      ]
    },
    {
      "cell_type": "code",
      "source": [
        "Students=[ 'ram' , 'venkat']\n",
        "print(Students)\n",
        "Students.append ('Dev')\n",
        "print(Students)"
      ],
      "metadata": {
        "colab": {
          "base_uri": "https://localhost:8080/"
        },
        "id": "R1o4XjsKqAqc",
        "outputId": "39c1f3c8-d557-4e9b-c663-44c1a5804b07"
      },
      "execution_count": null,
      "outputs": [
        {
          "output_type": "stream",
          "name": "stdout",
          "text": [
            "['ram', 'venkat']\n",
            "['ram', 'venkat', 'Dev']\n"
          ]
        }
      ]
    },
    {
      "cell_type": "code",
      "source": [
        "Grade= ['A', 'A', 'B' ,'C','A']\n",
        "print( 'How many peoples got A grade' ,Grade. count('A' ))"
      ],
      "metadata": {
        "colab": {
          "base_uri": "https://localhost:8080/"
        },
        "id": "nRrv5RvfqIrz",
        "outputId": "746472d0-e83b-4c97-d8b8-02f45e725a40"
      },
      "execution_count": null,
      "outputs": [
        {
          "output_type": "stream",
          "name": "stdout",
          "text": [
            "How many peoples got A grade 3\n"
          ]
        }
      ]
    },
    {
      "cell_type": "code",
      "source": [
        "Family=['Ramana', 'Swetha', 'Thanmai', 'Dev']\n",
        "print( 'Family members' ,Family)\n",
        "Family.reverse()\n",
        "print ( 'Family members' , Family)"
      ],
      "metadata": {
        "colab": {
          "base_uri": "https://localhost:8080/"
        },
        "id": "rnEt_UcSvBEN",
        "outputId": "5d0e2620-8f74-4b1f-d0aa-55d3c1079c10"
      },
      "execution_count": null,
      "outputs": [
        {
          "output_type": "stream",
          "name": "stdout",
          "text": [
            "Family members ['Ramana', 'Swetha', 'Thanmai', 'Dev']\n",
            "Family members ['Dev', 'Thanmai', 'Swetha', 'Ramana']\n"
          ]
        }
      ]
    },
    {
      "cell_type": "code",
      "source": [
        "Family=[ 'Venkat', 'Swetha']\n",
        "print( 'Family members' ,Family)\n",
        "atuple=('Dev', 'Thanmai')\n",
        "Family. extend(atuple)\n",
        "print( 'Family members' ,Family)"
      ],
      "metadata": {
        "colab": {
          "base_uri": "https://localhost:8080/"
        },
        "id": "F6Zj_J_Fqrd7",
        "outputId": "25a2aeda-a5b1-4e3e-f8b4-1a33950ceaa2"
      },
      "execution_count": null,
      "outputs": [
        {
          "output_type": "stream",
          "name": "stdout",
          "text": [
            "Family members ['Venkat', 'Swetha']\n",
            "Family members ['Venkat', 'Swetha', 'Dev', 'Thanmai']\n"
          ]
        }
      ]
    },
    {
      "cell_type": "code",
      "source": [
        "Grade= ['A','A', 'B','C', 'A', 'B']\n",
        "print( 'lowest index for grade B' ,Grade. index('B'))"
      ],
      "metadata": {
        "colab": {
          "base_uri": "https://localhost:8080/"
        },
        "id": "cD8EjCfKvbTc",
        "outputId": "fcd384e2-ea42-450c-fd50-d2da6584b4ed"
      },
      "execution_count": null,
      "outputs": [
        {
          "output_type": "stream",
          "name": "stdout",
          "text": [
            "lowest index for grade B 2\n"
          ]
        }
      ]
    },
    {
      "cell_type": "code",
      "source": [
        "Name=[ 'Ramana', 'Thanmai', 'Dev']\n",
        "print ('Family members' , Name )\n",
        "Name.insert(1, 'Swetha')\n",
        "print ( 'Family members' , Name )\n"
      ],
      "metadata": {
        "colab": {
          "base_uri": "https://localhost:8080/"
        },
        "id": "DynVJarlqw3k",
        "outputId": "dba94c3c-d5c8-432d-fac6-cffda9d24a7c"
      },
      "execution_count": null,
      "outputs": [
        {
          "output_type": "stream",
          "name": "stdout",
          "text": [
            "Family members ['Ramana', 'Thanmai', 'Dev']\n",
            "Family members ['Ramana', 'Swetha', 'Thanmai', 'Dev']\n"
          ]
        }
      ]
    },
    {
      "cell_type": "code",
      "source": [
        "Family=['Ramana', 'Swetha' , 'Thanmai', 'Dev']\n",
        "print( 'Family members' , Family)\n",
        "Family. pop()\n",
        "print( 'Family members' , Family)\n",
        "Family.pop (2)\n",
        "print( 'Family members' , Family)"
      ],
      "metadata": {
        "colab": {
          "base_uri": "https://localhost:8080/"
        },
        "id": "_WlnhCK_rApE",
        "outputId": "22372909-e8ed-4846-ed05-7fab18902236"
      },
      "execution_count": null,
      "outputs": [
        {
          "output_type": "stream",
          "name": "stdout",
          "text": [
            "Family members ['Ramana', 'Swetha', 'Thanmai', 'Dev']\n",
            "Family members ['Ramana', 'Swetha', 'Thanmai']\n",
            "Family members ['Ramana', 'Swetha']\n"
          ]
        }
      ]
    },
    {
      "cell_type": "code",
      "source": [
        "Family=['Ramana', 'Swetha', 'Thanmai', 'Dev']\n",
        "print( 'Family members' ,Family)\n",
        "Family. remove( 'Ramana')\n",
        "print ( 'Family members' , Family)"
      ],
      "metadata": {
        "colab": {
          "base_uri": "https://localhost:8080/"
        },
        "id": "M_0N0_s2rGvk",
        "outputId": "78296586-d84b-4f1d-b07a-f40333405d67"
      },
      "execution_count": null,
      "outputs": [
        {
          "output_type": "stream",
          "name": "stdout",
          "text": [
            "Family members ['Ramana', 'Swetha', 'Thanmai', 'Dev']\n",
            "Family members ['Swetha', 'Thanmai', 'Dev']\n"
          ]
        }
      ]
    },
    {
      "cell_type": "code",
      "source": [
        "tuple=('venkat','B.Tech',2006)\n",
        "print(tuple)\n",
        "print(tuple[0])\n",
        "print(tuple[0:2])\n",
        "print(tuple[0:])\n",
        "print(tuple[::-1])\n",
        "print(tuple[2:0:-1])"
      ],
      "metadata": {
        "colab": {
          "base_uri": "https://localhost:8080/"
        },
        "id": "G4lAYm7av63U",
        "outputId": "5c403c6a-8204-4e2b-cf79-e44a88fc13a2"
      },
      "execution_count": null,
      "outputs": [
        {
          "output_type": "stream",
          "name": "stdout",
          "text": [
            "('venkat', 'B.Tech', 2006)\n",
            "venkat\n",
            "('venkat', 'B.Tech')\n",
            "('venkat', 'B.Tech', 2006)\n",
            "(2006, 'B.Tech', 'venkat')\n",
            "(2006, 'B.Tech')\n"
          ]
        }
      ]
    },
    {
      "cell_type": "code",
      "source": [
        "tiny={'name':'venkat','marks':891}\n",
        "print(tiny)\n",
        "print(tiny['name'])\n",
        "print(tiny['marks'])\n",
        "tiny['name']='ramana'\n",
        "print(tiny)"
      ],
      "metadata": {
        "colab": {
          "base_uri": "https://localhost:8080/"
        },
        "id": "5gYYa0vmwsDc",
        "outputId": "c1a55b72-9bcf-4852-968e-64d785194e3a"
      },
      "execution_count": null,
      "outputs": [
        {
          "output_type": "stream",
          "name": "stdout",
          "text": [
            "{'name': 'venkat', 'marks': 891}\n",
            "venkat\n",
            "891\n",
            "{'name': 'ramana', 'marks': 891}\n"
          ]
        }
      ]
    },
    {
      "cell_type": "code",
      "source": [
        "tuple=('venkat','B.Tech',2006)\n",
        "pgtuple=('M.E','2011')\n",
        "print(tuple*2)\n",
        "print(tuple+pgtuple)\n",
        "list=['venkat','ph.d','2018']\n",
        "print(list)\n",
        "list[0]='ramana'\n",
        "print(list)\n",
        "tuple='ramana'"
      ],
      "metadata": {
        "colab": {
          "base_uri": "https://localhost:8080/"
        },
        "id": "KifWyHbDxU3V",
        "outputId": "64cc671e-d212-47b1-e911-e9153e4c9866"
      },
      "execution_count": 10,
      "outputs": [
        {
          "output_type": "stream",
          "name": "stdout",
          "text": [
            "('venkat', 'B.Tech', 2006, 'venkat', 'B.Tech', 2006)\n",
            "('venkat', 'B.Tech', 2006, 'M.E', '2011')\n",
            "['venkat', 'ph.d', '2018']\n",
            "['ramana', 'ph.d', '2018']\n"
          ]
        }
      ]
    },
    {
      "cell_type": "markdown",
      "source": [
        "DICTIONARY"
      ],
      "metadata": {
        "id": "BmcU87MLrAFX"
      }
    },
    {
      "cell_type": "code",
      "source": [
        "dict={}\n",
        "print(dict)\n",
        "dict['one']='this is one'\n",
        "print(dict)\n",
        "dict['2']='this is two'\n",
        "print(dict)\n",
        "print(dict.keys())\n",
        "print(dict.values())"
      ],
      "metadata": {
        "colab": {
          "base_uri": "https://localhost:8080/"
        },
        "id": "mZlzT6w7yUH3",
        "outputId": "5ccbf27f-850f-45aa-bec0-0fd87c36fbde"
      },
      "execution_count": null,
      "outputs": [
        {
          "output_type": "stream",
          "name": "stdout",
          "text": [
            "{}\n",
            "{'one': 'this is one'}\n",
            "{'one': 'this is one', '2': 'this is two'}\n",
            "dict_keys(['one', '2'])\n",
            "dict_values(['this is one', 'this is two'])\n"
          ]
        }
      ]
    },
    {
      "cell_type": "code",
      "source": [
        "thisset={\"apple\",\"banana\",\"cherry\"}\n",
        "mylist=[\"kiwi\",\"orange\"]\n",
        "mylist_2=(2,3)\n",
        "mylist_3={\"name\":\"venkat\",\"school\":\"SRU\"}\n",
        "\n",
        "thisset.update(mylist)\n",
        "thisset.update(mylist_2)\n",
        "thisset.update(mylist_3)\n",
        "print(thisset)"
      ],
      "metadata": {
        "id": "h3qADCwN0A2F",
        "colab": {
          "base_uri": "https://localhost:8080/"
        },
        "outputId": "80a26abb-3f4b-43b1-fd4a-5e506a7fab38"
      },
      "execution_count": 1,
      "outputs": [
        {
          "output_type": "stream",
          "name": "stdout",
          "text": [
            "{2, 3, 'banana', 'school', 'apple', 'cherry', 'orange', 'name', 'kiwi'}\n"
          ]
        }
      ]
    },
    {
      "cell_type": "code",
      "source": [
        "thisset={\"apple\",\"banana\",\"cherry\"}\n",
        "tropical={\"pineapple\",\"mango\",\"papaya\"}\n",
        "thisset.update(tropical)\n",
        "print(thisset)"
      ],
      "metadata": {
        "colab": {
          "base_uri": "https://localhost:8080/"
        },
        "id": "CbD3P9f_kS9M",
        "outputId": "d3fd8961-446d-4f45-d990-d85450a45b7e"
      },
      "execution_count": 3,
      "outputs": [
        {
          "output_type": "stream",
          "name": "stdout",
          "text": [
            "{'apple', 'cherry', 'pineapple', 'papaya', 'banana', 'mango'}\n"
          ]
        }
      ]
    },
    {
      "cell_type": "code",
      "source": [
        "thisset={\"apple\",\"banana\",\"cherry\"}\n",
        "for x in thisset:\n",
        "  print(x)"
      ],
      "metadata": {
        "colab": {
          "base_uri": "https://localhost:8080/"
        },
        "id": "tOCDxljIkPkh",
        "outputId": "b0f756e5-594e-4249-803a-9c2dfa0187f8"
      },
      "execution_count": 4,
      "outputs": [
        {
          "output_type": "stream",
          "name": "stdout",
          "text": [
            "banana\n",
            "apple\n",
            "cherry\n"
          ]
        }
      ]
    }
  ]
}