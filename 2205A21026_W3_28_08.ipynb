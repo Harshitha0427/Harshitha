{
  "cells": [
    {
      "cell_type": "markdown",
      "metadata": {
        "id": "view-in-github",
        "colab_type": "text"
      },
      "source": [
        "<a href=\"https://colab.research.google.com/github/Harshitha0427/Harshitha/blob/main/2205A21026_W3_28_08.ipynb\" target=\"_parent\"><img src=\"https://colab.research.google.com/assets/colab-badge.svg\" alt=\"Open In Colab\"/></a>"
      ]
    },
    {
      "cell_type": "code",
      "execution_count": null,
      "metadata": {
        "colab": {
          "base_uri": "https://localhost:8080/"
        },
        "id": "Dac_aQVgpPzz",
        "outputId": "0438155a-9bfb-4c28-c3b7-03d32189b01c"
      },
      "outputs": [
        {
          "output_type": "stream",
          "name": "stdout",
          "text": [
            "enter the v0:220\n",
            "enter the i0:2\n",
            "enter the w0:250\n",
            "enter the vsc:75\n",
            "enter the isc:10\n",
            "enter the wsc:500\n",
            "enter the rating:5000\n",
            "enter the x:1\n",
            "enter the pf:1\n",
            "ro value 193.6\n",
            "x0 value 26.734619750639606\n",
            "rhv value 5.0\n",
            "xhv value 5.5901699437494745\n",
            "efficiency value 86.95652173913044\n",
            "copper value 500.0\n"
          ]
        }
      ],
      "source": [
        "import transformermodules\n",
        "v0=int(input(\"enter the v0:\"))\n",
        "i0=int(input(\"enter the i0:\"))\n",
        "w0=int(input(\"enter the w0:\"))\n",
        "vsc=int(input(\"enter the vsc:\"))\n",
        "isc=int(input(\"enter the isc:\"))\n",
        "wsc=int(input(\"enter the wsc:\"))\n",
        "rating=int(input(\"enter the rating:\"))\n",
        "x=float(input(\"enter the x:\"))\n",
        "pf=float(input(\"enter the pf:\"))\n",
        "\n",
        "[r0,x0]=transformermodules.oc(v0,i0,w0)\n",
        "[rhv,xhv]=transformermodules.sc(vsc,isc,wsc)\n",
        "[efficiency,copper]=transformermodules.eff(rating,w0,wsc,x,pf)\n",
        "\n",
        "print(\"ro value\",r0)\n",
        "print(\"x0 value\",x0)\n",
        "print(\"rhv value\",rhv)\n",
        "print(\"xhv value\",xhv)\n",
        "print(\"efficiency value\",efficiency)\n",
        "print(\"copper value\",copper)\n"
      ]
    },
    {
      "cell_type": "code",
      "source": [],
      "metadata": {
        "id": "TFqanVNtDUG1"
      },
      "execution_count": null,
      "outputs": []
    }
  ],
  "metadata": {
    "colab": {
      "provenance": [],
      "authorship_tag": "ABX9TyMMzVrVLtZWBgS3EXcxTTJL",
      "include_colab_link": true
    },
    "kernelspec": {
      "display_name": "Python 3",
      "name": "python3"
    },
    "language_info": {
      "name": "python"
    }
  },
  "nbformat": 4,
  "nbformat_minor": 0
}