{
  "nbformat": 4,
  "nbformat_minor": 0,
  "metadata": {
    "colab": {
      "provenance": [],
      "authorship_tag": "ABX9TyPyfT+mMf8wW0G5IZLqf+pM",
      "include_colab_link": true
    },
    "kernelspec": {
      "name": "python3",
      "display_name": "Python 3"
    },
    "language_info": {
      "name": "python"
    }
  },
  "cells": [
    {
      "cell_type": "markdown",
      "metadata": {
        "id": "view-in-github",
        "colab_type": "text"
      },
      "source": [
        "<a href=\"https://colab.research.google.com/github/Harshitha0427/Harshitha/blob/main/W7.ipynb\" target=\"_parent\"><img src=\"https://colab.research.google.com/assets/colab-badge.svg\" alt=\"Open In Colab\"/></a>"
      ]
    },
    {
      "cell_type": "code",
      "execution_count": 9,
      "metadata": {
        "colab": {
          "base_uri": "https://localhost:8080/"
        },
        "id": "lt6UipmZewOS",
        "outputId": "a283ff10-dfc5-4f2d-b93b-214a4ec68a14"
      },
      "outputs": [
        {
          "output_type": "stream",
          "name": "stdout",
          "text": [
            "enter receving end voltage220000\n",
            "enter resistance per phase per km0.15\n",
            "enter inductance per phase per km0.0013263\n",
            "enter length of the line40\n",
            "enter power factor0.8\n",
            "enter apparent power381000000\n",
            "voltage_reg= 11.908716696181807\n",
            "(322795165.2892562+278561560.96710736j)\n",
            "efficiency: 94.42520606740476\n"
          ]
        }
      ],
      "source": [
        "import math as mt\n",
        "vr=float(input(\"enter receving end voltage\"))\n",
        "r=float(input(\"enter resistance per phase per km\"))\n",
        "l=float(input(\"enter inductance per phase per km\"))\n",
        "length=float(input(\"enter length of the line\"))\n",
        "pf=float(input(\"enter power factor\"))\n",
        "load=float(input(\"enter apparent power\"))\n",
        "vr_phase=vr/mt.sqrt(3)\n",
        "R=r*length\n",
        "L=l*length\n",
        "X=2*3.14*50*L\n",
        "Z=complex(R,X)\n",
        "P=load*pf\n",
        "Q=load*mt.sqrt(1-pf**2)\n",
        "S=complex(P,Q)\n",
        "IR=(S.conjugate())/(3*vr_phase)\n",
        "VS=vr_phase+Z*IR\n",
        "voltage_regulation=(abs(VS)-vr_phase)*100/vr_phase\n",
        "print(\"voltage_reg=\",voltage_regulation)\n",
        "Ssend=3*VS*IR.conjugate()\n",
        "print(Ssend)\n",
        "Psend=Ssend.real\n",
        "eff=P*100/Psend\n",
        "print(\"efficiency:\",eff)"
      ]
    }
  ]
}